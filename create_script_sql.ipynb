{
 "cells": [
  {
   "cell_type": "code",
   "execution_count": 1,
   "metadata": {},
   "outputs": [],
   "source": [
    "import pandas as pd\n",
    "import os"
   ]
  },
  {
   "cell_type": "code",
   "execution_count": 2,
   "metadata": {},
   "outputs": [
    {
     "data": {
      "text/plain": [
       "['appearances',\n",
       " 'clubs',\n",
       " 'club_games',\n",
       " 'competitions',\n",
       " 'games',\n",
       " 'game_events',\n",
       " 'game_lineups',\n",
       " 'players',\n",
       " 'player_valuations',\n",
       " 'transfers']"
      ]
     },
     "execution_count": 2,
     "metadata": {},
     "output_type": "execute_result"
    }
   ],
   "source": [
    "list_csv = list(map(\n",
    "  lambda txtMap: txtMap.replace(\".csv\", \"\"), \n",
    "  filter(lambda txt: txt.endswith(\".csv\"), os.listdir(\"data\"))\n",
    "))\n",
    "list_csv"
   ]
  },
  {
   "cell_type": "code",
   "execution_count": 3,
   "metadata": {},
   "outputs": [],
   "source": [
    "n = 9"
   ]
  },
  {
   "cell_type": "code",
   "execution_count": 4,
   "metadata": {},
   "outputs": [],
   "source": [
    "df = pd.read_csv(f\"data/{list_csv[n]}.csv\")"
   ]
  },
  {
   "cell_type": "code",
   "execution_count": 5,
   "metadata": {},
   "outputs": [
    {
     "data": {
      "text/plain": [
       "'transfers'"
      ]
     },
     "execution_count": 5,
     "metadata": {},
     "output_type": "execute_result"
    }
   ],
   "source": [
    "list_csv[n]"
   ]
  },
  {
   "cell_type": "code",
   "execution_count": 6,
   "metadata": {},
   "outputs": [
    {
     "data": {
      "text/plain": [
       "77994"
      ]
     },
     "execution_count": 6,
     "metadata": {},
     "output_type": "execute_result"
    }
   ],
   "source": [
    "df.shape[0] "
   ]
  },
  {
   "cell_type": "code",
   "execution_count": 7,
   "metadata": {},
   "outputs": [
    {
     "data": {
      "text/plain": [
       "52.02407704654895"
      ]
     },
     "execution_count": 7,
     "metadata": {},
     "output_type": "execute_result"
    }
   ],
   "source": [
    "32411/623"
   ]
  },
  {
   "cell_type": "code",
   "execution_count": 10,
   "metadata": {},
   "outputs": [
    {
     "data": {
      "text/plain": [
       "118"
      ]
     },
     "execution_count": 10,
     "metadata": {},
     "output_type": "execute_result"
    }
   ],
   "source": [
    "77994 - 77876"
   ]
  },
  {
   "cell_type": "code",
   "execution_count": 9,
   "metadata": {},
   "outputs": [],
   "source": [
    "field = f\"{tuple(df.columns)}\".replace(\"'\", \"\")\n",
    "count = 623\n",
    "for x in range(count, df.shape[0], count):\n",
    "  insert = \"\"\n",
    "  for row in df.values[x-count:x]:\n",
    "    value = f\"{tuple(row)}\".replace(\"nan\", \"NULL\")\n",
    "    insert += f\"INSERT INTO {list_csv[n]} {field} VALUES {value};\\n\"\n",
    "\n",
    "  with open(f\"insert_values_{list_csv[n]}.txt\", \"a\", encoding=\"utf 8\") as obj:\n",
    "    obj.write(insert) "
   ]
  },
  {
   "cell_type": "code",
   "execution_count": 12,
   "metadata": {},
   "outputs": [
    {
     "data": {
      "text/plain": [
       "118"
      ]
     },
     "execution_count": 12,
     "metadata": {},
     "output_type": "execute_result"
    }
   ],
   "source": [
    "len(df.values[77876:])"
   ]
  },
  {
   "cell_type": "code",
   "execution_count": null,
   "metadata": {},
   "outputs": [],
   "source": [
    "field = f\"{tuple(df.columns)}\".replace(\"'\", \"\")\n",
    "insert = \"\"\n",
    "for row in df.values[77876:]:\n",
    "  value = f\"{tuple(row)}\".replace(\"nan\", \"NULL\")\n",
    "  insert += f\"INSERT INTO {list_csv[n]} {field} VALUES {value};\\n\"\n",
    "with open(f\"insert_values_{list_csv[n]}.txt\", \"a\", encoding=\"utf 8\") as obj:\n",
    "  obj.write(insert) "
   ]
  },
  {
   "cell_type": "code",
   "execution_count": null,
   "metadata": {},
   "outputs": [],
   "source": [
    "insert.count(\"INSERT INTO\")"
   ]
  }
 ],
 "metadata": {
  "kernelspec": {
   "display_name": "modelagem",
   "language": "python",
   "name": "python3"
  },
  "language_info": {
   "codemirror_mode": {
    "name": "ipython",
    "version": 3
   },
   "file_extension": ".py",
   "mimetype": "text/x-python",
   "name": "python",
   "nbconvert_exporter": "python",
   "pygments_lexer": "ipython3",
   "version": "3.11.3"
  },
  "orig_nbformat": 4
 },
 "nbformat": 4,
 "nbformat_minor": 2
}
