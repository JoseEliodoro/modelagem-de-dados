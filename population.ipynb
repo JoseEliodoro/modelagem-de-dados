{
 "cells": [
  {
   "cell_type": "code",
   "execution_count": null,
   "metadata": {},
   "outputs": [],
   "source": [
    "import pandas as pd\n",
    "import numpy as np\n",
    "import mysql.connector\n",
    "import os"
   ]
  },
  {
   "cell_type": "code",
   "execution_count": null,
   "metadata": {},
   "outputs": [],
   "source": [
    "mydb = mysql.connector.connect(\n",
    "  host=\"localhost\",\n",
    "  user=\"root\",\n",
    "  password=\"root\",\n",
    "  database = \"modelagem\"\n",
    ")\n",
    "\n",
    "cur = mydb.cursor()"
   ]
  },
  {
   "cell_type": "code",
   "execution_count": null,
   "metadata": {},
   "outputs": [],
   "source": [
    "list_csv = list(map(lambda txtMap: txtMap.replace(\".csv\", \"\"), filter(lambda txt: txt.endswith(\".csv\"), os.listdir(\"data-new\"))))\n",
    "list_csv"
   ]
  },
  {
   "cell_type": "code",
   "execution_count": null,
   "metadata": {},
   "outputs": [],
   "source": [
    "n=5"
   ]
  },
  {
   "cell_type": "code",
   "execution_count": null,
   "metadata": {},
   "outputs": [],
   "source": [
    "data = pd.read_csv(f\"data-new/{list_csv[n]}.csv\")"
   ]
  },
  {
   "cell_type": "code",
   "execution_count": null,
   "metadata": {},
   "outputs": [],
   "source": [
    "list_csv[n]"
   ]
  },
  {
   "cell_type": "code",
   "execution_count": null,
   "metadata": {},
   "outputs": [],
   "source": [
    "cur.execute(f\"describe {list_csv[n]};\")\n",
    "print(f\"{'Column':<25}{'|':<2}{'Type':<13}{'|':<2}{'Null':<4}{'|':<2}{'KEY':<4}{'|':<3}{'Default'}\")\n",
    "print(f\"-------------------------------------------------------------------------------------\")\n",
    "for row in cur.fetchall():\n",
    "  print(f\"{row[0]:<25}{'|':<2}{row[1]:<13}{'|':<2}{row[2]:<4}{'|':<2}{row[3]:<4}{'|':<3}{row[4]}\")"
   ]
  },
  {
   "cell_type": "code",
   "execution_count": null,
   "metadata": {},
   "outputs": [],
   "source": [
    "data.info()"
   ]
  },
  {
   "cell_type": "code",
   "execution_count": null,
   "metadata": {},
   "outputs": [],
   "source": [
    "data.columns"
   ]
  },
  {
   "cell_type": "code",
   "execution_count": null,
   "metadata": {},
   "outputs": [],
   "source": [
    "field = f\"{tuple(data.columns)}\".replace(\"'\", \"\")\n",
    "for row in data.values:\n",
    "  value = f\"{tuple(row)}\".replace(\"nan\", \"NULL\")\n",
    "  cur.execute(f\"INSERT INTO {list_csv[n]} {field} VALUES {value};\")\n",
    "cur.fetchall()\n",
    "mydb.commit()"
   ]
  },
  {
   "cell_type": "code",
   "execution_count": null,
   "metadata": {},
   "outputs": [],
   "source": []
  },
  {
   "cell_type": "code",
   "execution_count": null,
   "metadata": {},
   "outputs": [],
   "source": [
    "data.shape[0]"
   ]
  },
  {
   "cell_type": "code",
   "execution_count": null,
   "metadata": {},
   "outputs": [],
   "source": [
    "cur.execute(f\"SELECT COUNT(*) AS count FROM {list_csv[n]};\")\n",
    "cur.fetchall()[0][0]"
   ]
  }
 ],
 "metadata": {
  "kernelspec": {
   "display_name": "modelagem",
   "language": "python",
   "name": "python3"
  },
  "language_info": {
   "codemirror_mode": {
    "name": "ipython",
    "version": 3
   },
   "file_extension": ".py",
   "mimetype": "text/x-python",
   "name": "python",
   "nbconvert_exporter": "python",
   "pygments_lexer": "ipython3",
   "version": "3.11.3"
  },
  "orig_nbformat": 4
 },
 "nbformat": 4,
 "nbformat_minor": 2
}
